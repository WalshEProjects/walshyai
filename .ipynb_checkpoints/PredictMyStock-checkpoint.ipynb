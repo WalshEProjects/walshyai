{
 "cells": [
  {
   "cell_type": "code",
   "execution_count": 2,
   "metadata": {},
   "outputs": [
    {
     "name": "stdout",
     "output_type": "stream",
     "text": [
      "            Adj. Close\n",
      "Date                  \n",
      "2018-03-21     1581.86\n",
      "2018-03-22     1544.10\n",
      "2018-03-23     1495.56\n",
      "2018-03-26     1555.86\n",
      "2018-03-27     1497.05\n",
      "confidence:  0.9918949516713308\n",
      "[1628.63816723 1619.72139475 1608.79115751 1581.31147273 1624.0256893\n",
      " 1619.2488469  1580.45883205 1530.59476104 1592.53962057 1532.12540517]\n"
     ]
    }
   ],
   "source": [
    "\n",
    "import quandl\n",
    "import pandas as pd\n",
    "import numpy as np\n",
    "import datetime\n",
    "\n",
    "from sklearn.linear_model import LinearRegression\n",
    "from sklearn import preprocessing, model_selection, svm\n",
    "\n",
    "df = quandl.get(\"WIKI/AMZN\", start_date=\"2011-12-31\", end_date=\"2018-12-31\")\n",
    "df = df[['Adj. Close']]\n",
    "\n",
    "print(df.tail())\n",
    "\n",
    "forecast_out = int(10)\n",
    "\n",
    "df['Prediction'] = df[['Adj. Close']].shift(-forecast_out)\n",
    "\n",
    "X = np.array(df.drop(['Prediction'],1))\n",
    "X = preprocessing.scale(X)\n",
    "\n",
    "X_forecast = X[-forecast_out:]\n",
    "X = X[:-forecast_out]\n",
    "\n",
    "y = np.array(df['Prediction'])\n",
    "y = y[:-forecast_out]\n",
    "\n",
    "X_train, X_test, y_train, y_test = model_selection.train_test_split(X, y, test_size = 0.2)\n",
    "\n",
    "clf = LinearRegression()\n",
    "clf.fit(X_train,y_train)\n",
    "\n",
    "confidence = clf.score(X_test, y_test)\n",
    "print(\"confidence: \", confidence)\n",
    "\n",
    "forecast_prediction = clf.predict(X_forecast)\n",
    "print(forecast_prediction)"
   ]
  }
 ],
 "metadata": {
  "kernelspec": {
   "display_name": "Python 3",
   "language": "python",
   "name": "python3"
  },
  "language_info": {
   "codemirror_mode": {
    "name": "ipython",
    "version": 3
   },
   "file_extension": ".py",
   "mimetype": "text/x-python",
   "name": "python",
   "nbconvert_exporter": "python",
   "pygments_lexer": "ipython3",
   "version": "3.7.4"
  }
 },
 "nbformat": 4,
 "nbformat_minor": 2
}
